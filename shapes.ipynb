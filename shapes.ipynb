{
 "cells": [
  {
   "cell_type": "code",
   "execution_count": 1,
   "metadata": {},
   "outputs": [
    {
     "name": "stdout",
     "output_type": "stream",
     "text": [
      "EPSG:4326\n"
     ]
    },
    {
     "data": {
      "image/png": "[encoded data removed]",
      "text/plain": [
       "<Figure size 1000x1000 with 1 Axes>"
      ]
     },
     "metadata": {},
     "output_type": "display_data"
    }
   ],
   "source": [
    "# Importa las bibliotecas necesarias\n",
    "import geopandas as gpd\n",
    "import matplotlib.pyplot as plt\n",
    "\n",
    "shp_file = 'data/GIS_Arberoki2_and_lanes/N-150_Road_optical_fiber_layout_Arberoki_section.shp'\n",
    "\n",
    "# Abre el archivo Shapefile\n",
    "#gdf = gpd.read_file('data/GIS_Arberoki2_and_lanes/NA150 Eastbound lane.shp')\n",
    "gdf = gpd.read_file(shp_file)\n",
    "\n",
    "# Comprueba la proyección del archivo\n",
    "print(gdf.crs)\n",
    "\n",
    "# Si es necesario, puedes re-proyectar el GeoDataFrame a otra proyección\n",
    "# gdf = gdf.to_crs('EPSG:4326')  # Convierte a WGS84 si es necesario\n",
    "\n",
    "# Crea un gráfico\n",
    "fig, ax = plt.subplots(figsize=(10, 10))\n",
    "\n",
    "# Dibuja el archivo Shapefile en el gráfico\n",
    "gdf.plot(ax=ax)\n",
    "\n",
    "# Muestra el gráfico\n",
    "plt.show()\n",
    "\n"
   ]
  },
  {
   "cell_type": "code",
   "execution_count": 2,
   "metadata": {},
   "outputs": [
    {
     "name": "stdout",
     "output_type": "stream",
     "text": [
      "EPSG:4326\n"
     ]
    },
    {
     "data": {
      "text/html": [
       "<div style=\"width:100%;\"><div style=\"position:relative;width:100%;height:0;padding-bottom:60%;\"><span style=\"color:#565656\">Make this Notebook Trusted to load map: File -> Trust Notebook</span><iframe srcdoc=\"&lt;!DOCTYPE html&gt;\n",
       "&lt;html&gt;\n",
       "&lt;head&gt;\n",
       "    \n",
       "    &lt;meta http-equiv=&quot;content-type&quot; content=&quot;text/html; charset=UTF-8&quot; /&gt;\n",
       "    \n",
       "        &lt;script&gt;\n",
       "            L_NO_TOUCH = false;\n",
       "            L_DISABLE_3D = false;\n",
       "        &lt;/script&gt;\n",
       "    \n",
       "    &lt;style&gt;html, body {width: 100%;height: 100%;margin: 0;padding: 0;}&lt;/style&gt;\n",
       "    &lt;style&gt;#map {position:absolute;top:0;bottom:0;right:0;left:0;}&lt;/style&gt;\n",
       "    &lt;script src=&quot;https://cdn.jsdelivr.net/npm/leaflet@1.9.3/dist/leaflet.js&quot;&gt;&lt;/script&gt;\n",
       "    &lt;script src=&quot;https://code.jquery.com/jquery-1.12.4.min.js&quot;&gt;&lt;/script&gt;\n",
       "    &lt;script src=&quot;https://cdn.jsdelivr.net/npm/bootstrap@5.2.2/dist/js/bootstrap.bundle.min.js&quot;&gt;&lt;/script&gt;\n",
       "    &lt;script src=&quot;https://cdnjs.cloudflare.com/ajax/libs/Leaflet.awesome-markers/2.0.2/leaflet.awesome-markers.js&quot;&gt;&lt;/script&gt;\n",
       "    &lt;link rel=&quot;stylesheet&quot; href=&quot;https://cdn.jsdelivr.net/npm/leaflet@1.9.3/dist/leaflet.css&quot;/&gt;\n",
       "    &lt;link rel=&quot;stylesheet&quot; href=&quot;https://cdn.jsdelivr.net/npm/bootstrap@5.2.2/dist/css/bootstrap.min.css&quot;/&gt;\n",
       "    &lt;link rel=&quot;stylesheet&quot; href=&quot;https://netdna.bootstrapcdn.com/bootstrap/3.0.0/css/bootstrap.min.css&quot;/&gt;\n",
       "    &lt;link rel=&quot;stylesheet&quot; href=&quot;https://cdn.jsdelivr.net/npm/@fortawesome/fontawesome-free@6.2.0/css/all.min.css&quot;/&gt;\n",
       "    &lt;link rel=&quot;stylesheet&quot; href=&quot;https://cdnjs.cloudflare.com/ajax/libs/Leaflet.awesome-markers/2.0.2/leaflet.awesome-markers.css&quot;/&gt;\n",
       "    &lt;link rel=&quot;stylesheet&quot; href=&quot;https://cdn.jsdelivr.net/gh/python-visualization/folium/folium/templates/leaflet.awesome.rotate.min.css&quot;/&gt;\n",
       "    \n",
       "            &lt;meta name=&quot;viewport&quot; content=&quot;width=device-width,\n",
       "                initial-scale=1.0, maximum-scale=1.0, user-scalable=no&quot; /&gt;\n",
       "            &lt;style&gt;\n",
       "                #map_bf73e6df33b7b1ca626ddb0d660775bf {\n",
       "                    position: relative;\n",
       "                    width: 100.0%;\n",
       "                    height: 100.0%;\n",
       "                    left: 0.0%;\n",
       "                    top: 0.0%;\n",
       "                }\n",
       "                .leaflet-container { font-size: 1rem; }\n",
       "            &lt;/style&gt;\n",
       "        \n",
       "&lt;/head&gt;\n",
       "&lt;body&gt;\n",
       "    \n",
       "    \n",
       "            &lt;div class=&quot;folium-map&quot; id=&quot;map_bf73e6df33b7b1ca626ddb0d660775bf&quot; &gt;&lt;/div&gt;\n",
       "        \n",
       "&lt;/body&gt;\n",
       "&lt;script&gt;\n",
       "    \n",
       "    \n",
       "            var map_bf73e6df33b7b1ca626ddb0d660775bf = L.map(\n",
       "                &quot;map_bf73e6df33b7b1ca626ddb0d660775bf&quot;,\n",
       "                {\n",
       "                    center: [42.82778036362762, -1.5728145480652138],\n",
       "                    crs: L.CRS.EPSG3857,\n",
       "                    zoom: 16,\n",
       "                    zoomControl: true,\n",
       "                    preferCanvas: false,\n",
       "                }\n",
       "            );\n",
       "\n",
       "            \n",
       "\n",
       "        \n",
       "    \n",
       "            var tile_layer_2b9f174726a68ad6a34c15b56df3873d = L.tileLayer(\n",
       "                &quot;https://{s}.tile.openstreetmap.org/{z}/{x}/{y}.png&quot;,\n",
       "                {&quot;attribution&quot;: &quot;Data by \\u0026copy; \\u003ca target=\\&quot;_blank\\&quot; href=\\&quot;http://openstreetmap.org\\&quot;\\u003eOpenStreetMap\\u003c/a\\u003e, under \\u003ca target=\\&quot;_blank\\&quot; href=\\&quot;http://www.openstreetmap.org/copyright\\&quot;\\u003eODbL\\u003c/a\\u003e.&quot;, &quot;detectRetina&quot;: false, &quot;maxNativeZoom&quot;: 18, &quot;maxZoom&quot;: 18, &quot;minZoom&quot;: 0, &quot;noWrap&quot;: false, &quot;opacity&quot;: 1, &quot;subdomains&quot;: &quot;abc&quot;, &quot;tms&quot;: false}\n",
       "            ).addTo(map_bf73e6df33b7b1ca626ddb0d660775bf);\n",
       "        \n",
       "    \n",
       "\n",
       "        function geo_json_020cb04e52f9d40a1f09b4cf9993b5a3_onEachFeature(feature, layer) {\n",
       "            layer.on({\n",
       "            });\n",
       "        };\n",
       "        var geo_json_020cb04e52f9d40a1f09b4cf9993b5a3 = L.geoJson(null, {\n",
       "                onEachFeature: geo_json_020cb04e52f9d40a1f09b4cf9993b5a3_onEachFeature,\n",
       "            \n",
       "        });\n",
       "\n",
       "        function geo_json_020cb04e52f9d40a1f09b4cf9993b5a3_add (data) {\n",
       "            geo_json_020cb04e52f9d40a1f09b4cf9993b5a3\n",
       "                .addData(data)\n",
       "                .addTo(map_bf73e6df33b7b1ca626ddb0d660775bf);\n",
       "        }\n",
       "            geo_json_020cb04e52f9d40a1f09b4cf9993b5a3_add({&quot;bbox&quot;: [-1.5841200145925531, 42.82572525364142, -1.5610084836074272, 42.829240300624896], &quot;features&quot;: [{&quot;bbox&quot;: [-1.5841200145925531, 42.82572525364142, -1.5610084836074272, 42.829240300624896], &quot;geometry&quot;: {&quot;coordinates&quot;: [[-1.561012888740561, 42.82582325551536], [-1.5610084836074272, 42.82579740888238], [-1.5610261041399613, 42.825776946956935], [-1.5610481298056293, 42.825764023632104], [-1.5610760289821417, 42.82575110030457], [-1.5611068649140762, 42.8257424847514], [-1.5611538530008342, 42.82573171530823], [-1.5612052462207253, 42.82572633058593], [-1.5612522343074833, 42.82572633058593], [-1.5613462104809988, 42.82572525364142], [-1.561413755855713, 42.82572525364142], [-1.5614592755647598, 42.82572525364142], [-1.5615297576948963, 42.82573817697435], [-1.5616839373545703, 42.82577371612598], [-1.5622683516836204, 42.82590941088061], [-1.562854601484809, 42.82604456686791], [-1.5632921780427407, 42.82614902985881], [-1.5640028728549522, 42.82631380102174], [-1.5652381456044828, 42.826601341803105], [-1.5658401804660673, 42.8267456501556], [-1.565969764799079, 42.82677795794955], [-1.5660226263966814, 42.82679841954366], [-1.5660975136599518, 42.82682534268348], [-1.5661709325455107, 42.826846881186896], [-1.5662810608738487, 42.82687272738109], [-1.5666569655679115, 42.82695780436063], [-1.5670093762185944, 42.82704288122307], [-1.5672340380084049, 42.82710211188097], [-1.5674972447131343, 42.827176957812945], [-1.5678158826764603, 42.82727711122044], [-1.5679480366704668, 42.82731695715464], [-1.567990619624091, 42.82731695715464], [-1.5680376077108484, 42.82730511106878], [-1.5680537598656716, 42.827288957311666], [-1.5680699120204946, 42.82726849587994], [-1.5680860641753172, 42.827263111291515], [-1.5689215710929794, 42.82745911000796], [-1.5693459322515104, 42.82755280148253], [-1.5694696430736772, 42.82758510885463], [-1.5694799217176554, 42.82764218517074], [-1.5695944551791279, 42.827665877211004], [-1.5696267594887732, 42.82761741620983], [-1.5697486348388017, 42.82764649281509], [-1.5699468658298112, 42.827693876883245], [-1.5703124918798952, 42.82777787582387], [-1.5707720941034946, 42.82788772042015], [-1.5710760482897086, 42.82795987313698], [-1.571844376927084, 42.82813756230441], [-1.5726666684453454, 42.828324943054895], [-1.572838835731981, 42.828362096067245], [-1.5730341299675685, 42.82841163338233], [-1.5731427899181958, 42.828439632716766], [-1.5732264874477329, 42.82847086272867], [-1.5732822858007578, 42.82849993893247], [-1.5733336790206494, 42.828530092018255], [-1.5733924141290965, 42.82856778335482], [-1.5734320603272984, 42.82859685951302], [-1.5734907954357455, 42.82864855042718], [-1.5735407202779257, 42.82868839547735], [-1.5735818348538386, 42.82870347197611], [-1.573624417807463, 42.82870885643907], [-1.5737051785815779, 42.82871424090156], [-1.5737932812442488, 42.82870239508347], [-1.573860826618963, 42.8286927030488], [-1.5739063463280099, 42.82868839547735], [-1.5739342455045222, 42.8286862416915], [-1.5739738917027235, 42.828721779148246], [-1.574000322501525, 42.8286959337272], [-1.5740443738328602, 42.82868085722659], [-1.5740972354304628, 42.828683011012615], [-1.5741677175605995, 42.82868516479857], [-1.574266465961676, 42.828701318190795], [-1.5743501634912138, 42.82871854847121], [-1.5744896593737758, 42.82874870145036], [-1.5747715878943225, 42.82881654559966], [-1.574922830798574, 42.82886069810127], [-1.5751151882787386, 42.82890915812772], [-1.5752767098269684, 42.82895331056318], [-1.5754308894866422, 42.82899530919202], [-1.5755601067252265, 42.82902869269715], [-1.5756379307439186, 42.82904699977297], [-1.5758258830909502, 42.829080383250194], [-1.5760865201346845, 42.82912292023537], [-1.5764638932064576, 42.829170303171736], [-1.5767443533492935, 42.829212301653136], [-1.576917621919213, 42.829228454907614], [-1.5771569674861354, 42.8292392237416], [-1.5773449198331664, 42.829240300624896], [-1.57747413707175, 42.82923706997496], [-1.577768179708414, 42.82922414737351], [-1.578060386872939, 42.829217686071765], [-1.5783848983471103, 42.82919722527848], [-1.5787534611526164, 42.829162764979735], [-1.5790515418279858, 42.82912615089127], [-1.5792985963778923, 42.82908684456628], [-1.5795614359881938, 42.82904161533948], [-1.5799153150165879, 42.828965156333176], [-1.5799490877039455, 42.82895438745145], [-1.5799887339021474, 42.828966233221244], [-1.5799960757907034, 42.82896084878072], [-1.5800122279455262, 42.82893823412534], [-1.580298561599206, 42.82886177499116], [-1.580581958497464, 42.82877777752346], [-1.580897659705368, 42.828670088295326], [-1.5810063196559951, 42.82863024323336], [-1.581137739461146, 42.82858178298826], [-1.5812640199443075, 42.82853116891391], [-1.5814005790714472, 42.82847086272867], [-1.581551821975699, 42.828405171995655], [-1.581730964056463, 42.82832117390747], [-1.5818968907378264, 42.828239329506616], [-1.5820451968866558, 42.828162869507906], [-1.582176616691806, 42.82809610154436], [-1.58235575877257, 42.82799164184381], [-1.582526090587067, 42.82788933578041], [-1.5827111061786756, 42.82776118373578], [-1.5828476653058154, 42.82766641566636], [-1.5829900979438, 42.82756410906468], [-1.583146847264468, 42.82743972554721], [-1.5832834063916084, 42.8273255724884], [-1.5834331809181488, 42.82719418851826], [-1.5835800186892666, 42.82705526581988], [-1.583694552150739, 42.826937881280976], [-1.5837734774527148, 42.8268544196613], [-1.5838777322702084, 42.82674026552163], [-1.5839878605985471, 42.82660995723659], [-1.5840877102829072, 42.82648718719606], [-1.5841200145925531, 42.82644518686307]], &quot;type&quot;: &quot;LineString&quot;}, &quot;id&quot;: &quot;0&quot;, &quot;properties&quot;: {&quot;id&quot;: 1}, &quot;type&quot;: &quot;Feature&quot;}], &quot;type&quot;: &quot;FeatureCollection&quot;});\n",
       "\n",
       "        \n",
       "&lt;/script&gt;\n",
       "&lt;/html&gt;\" style=\"position:absolute;width:100%;height:100%;left:0;top:0;border:none !important;\" allowfullscreen webkitallowfullscreen mozallowfullscreen></iframe></div></div>"
      ],
      "text/plain": [
       "<folium.folium.Map at 0x2163cc5e830>"
      ]
     },
     "execution_count": 2,
     "metadata": {},
     "output_type": "execute_result"
    }
   ],
   "source": [
    "# Importa las bibliotecas necesarias\n",
    "import geopandas as gpd\n",
    "import folium\n",
    "\n",
    "# Abre el archivo Shapefile\n",
    "gdf = gpd.read_file(shp_file)\n",
    "\n",
    "# Comprueba la proyección del archivo\n",
    "print(gdf.crs)\n",
    "\n",
    "# Si es necesario, puedes re-proyectar el GeoDataFrame a WGS84\n",
    "gdf = gdf.to_crs('EPSG:4326')\n",
    "\n",
    "# Crea un mapa centrado en el centroide de tus datos\n",
    "m = folium.Map(location=[gdf.unary_union.centroid.y, gdf.unary_union.centroid.x], zoom_start=16)\n",
    "\n",
    "# Añade tus datos al mapa\n",
    "folium.GeoJson(gdf).add_to(m)\n",
    "\n",
    "# Muestra el mapa\n",
    "m\n"
   ]
  },
  {
   "cell_type": "code",
   "execution_count": 3,
   "metadata": {},
   "outputs": [
    {
     "name": "stdout",
     "output_type": "stream",
     "text": [
      "                     geometry\n",
      "0   POINT (-1.56101 42.82582)\n",
      "1   POINT (-1.56213 42.82588)\n",
      "2   POINT (-1.56330 42.82615)\n",
      "3   POINT (-1.56447 42.82642)\n",
      "4   POINT (-1.56563 42.82670)\n",
      "5   POINT (-1.56679 42.82699)\n",
      "6   POINT (-1.56793 42.82731)\n",
      "7   POINT (-1.56907 42.82749)\n",
      "8   POINT (-1.57013 42.82774)\n",
      "9   POINT (-1.57130 42.82801)\n",
      "10  POINT (-1.57247 42.82828)\n",
      "11  POINT (-1.57353 42.82868)\n",
      "12  POINT (-1.57468 42.82879)\n",
      "13  POINT (-1.57583 42.82908)\n",
      "14  POINT (-1.57704 42.82923)\n",
      "15  POINT (-1.57826 42.82921)\n",
      "16  POINT (-1.57946 42.82906)\n",
      "17  POINT (-1.58060 42.82877)\n",
      "18  POINT (-1.58168 42.82835)\n",
      "19  POINT (-1.58265 42.82780)\n",
      "20  POINT (-1.58348 42.82715)\n"
     ]
    }
   ],
   "source": [
    "import geopandas as gpd\n",
    "from shapely.geometry import LineString\n",
    "\n",
    "# Cargando el archivo .shp en un GeoDataFrame\n",
    "gdf = gpd.read_file(shp_file)\n",
    "\n",
    "# Cambiar el sistema de coordenadas a un CRS que mide en metros\n",
    "gdf = gdf.to_crs('EPSG:25830')\n",
    "\n",
    "# Obtener la geometría de la línea (en este caso, asumimos que solo hay una línea en el GeoDataFrame)\n",
    "linea = gdf.geometry.iloc[0]\n",
    "\n",
    "# Interpolar puntos cada 100 metros a lo largo de la línea\n",
    "distancias = list(range(0, int(linea.length), 100))\n",
    "puntos = [linea.interpolate(distancia) for distancia in distancias]\n",
    "\n",
    "# Ahora, 'puntos' es una lista de objetos 'Point' a lo largo de la línea cada 100 metros\n",
    "# Convierte la lista de puntos en un GeoDataFrame\n",
    "gdf_puntos = gpd.GeoDataFrame(geometry=puntos, crs='EPSG:25830')\n",
    "\n",
    "# Cambia el sistema de coordenadas de vuelta a WGS84\n",
    "gdf_puntos = gdf_puntos.to_crs('EPSG:4326')\n",
    "\n",
    "#print gdp_puntos gps coordinates\n",
    "print(gdf_puntos)\n",
    "\n",
    "\n"
   ]
  },
  {
   "cell_type": "code",
   "execution_count": null,
   "metadata": {},
   "outputs": [],
   "source": []
  }
 ],
 "metadata": {
  "kernelspec": {
   "display_name": ".venv",
   "language": "python",
   "name": "python3"
  },
  "language_info": {
   "codemirror_mode": {
    "name": "ipython",
    "version": 3
   },
   "file_extension": ".py",
   "mimetype": "text/x-python",
   "name": "python",
   "nbconvert_exporter": "python",
   "pygments_lexer": "ipython3",
   "version": "3.10.6"
  },
  "orig_nbformat": 4
 },
 "nbformat": 4,
 "nbformat_minor": 2
}
